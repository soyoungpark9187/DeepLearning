{
  "nbformat": 4,
  "nbformat_minor": 0,
  "metadata": {
    "colab": {
      "name": "DL_competition.ipynb",
      "provenance": [],
      "collapsed_sections": [],
      "mount_file_id": "1g0_qI2qFll-jdnRrN7BVtDYrw6Lxx5pZ",
      "authorship_tag": "ABX9TyNyY1a1zZVp+hPbkEXJyIAT",
      "include_colab_link": true
    },
    "kernelspec": {
      "name": "python3",
      "display_name": "Python 3"
    },
    "accelerator": "GPU",
    "widgets": {
      "application/vnd.jupyter.widget-state+json": {
        "90bea92bfc024adfa212c82ca5837dd2": {
          "model_module": "@jupyter-widgets/controls",
          "model_name": "HBoxModel",
          "state": {
            "_view_name": "HBoxView",
            "_dom_classes": [],
            "_model_name": "HBoxModel",
            "_view_module": "@jupyter-widgets/controls",
            "_model_module_version": "1.5.0",
            "_view_count": null,
            "_view_module_version": "1.5.0",
            "box_style": "",
            "layout": "IPY_MODEL_edfb53bb23c1448187facf267604958d",
            "_model_module": "@jupyter-widgets/controls",
            "children": [
              "IPY_MODEL_212097a2b5ac4c56a36db4d4cfe627a2",
              "IPY_MODEL_b6f12900f163457e91708e1e973e1cfc"
            ]
          }
        },
        "edfb53bb23c1448187facf267604958d": {
          "model_module": "@jupyter-widgets/base",
          "model_name": "LayoutModel",
          "state": {
            "_view_name": "LayoutView",
            "grid_template_rows": null,
            "right": null,
            "justify_content": null,
            "_view_module": "@jupyter-widgets/base",
            "overflow": null,
            "_model_module_version": "1.2.0",
            "_view_count": null,
            "flex_flow": null,
            "width": null,
            "min_width": null,
            "border": null,
            "align_items": null,
            "bottom": null,
            "_model_module": "@jupyter-widgets/base",
            "top": null,
            "grid_column": null,
            "overflow_y": null,
            "overflow_x": null,
            "grid_auto_flow": null,
            "grid_area": null,
            "grid_template_columns": null,
            "flex": null,
            "_model_name": "LayoutModel",
            "justify_items": null,
            "grid_row": null,
            "max_height": null,
            "align_content": null,
            "visibility": null,
            "align_self": null,
            "height": null,
            "min_height": null,
            "padding": null,
            "grid_auto_rows": null,
            "grid_gap": null,
            "max_width": null,
            "order": null,
            "_view_module_version": "1.2.0",
            "grid_template_areas": null,
            "object_position": null,
            "object_fit": null,
            "grid_auto_columns": null,
            "margin": null,
            "display": null,
            "left": null
          }
        },
        "212097a2b5ac4c56a36db4d4cfe627a2": {
          "model_module": "@jupyter-widgets/controls",
          "model_name": "FloatProgressModel",
          "state": {
            "_view_name": "ProgressView",
            "style": "IPY_MODEL_16285515ae044bafb5160188907c2099",
            "_dom_classes": [],
            "description": "100%",
            "_model_name": "FloatProgressModel",
            "bar_style": "success",
            "max": 102502400,
            "_view_module": "@jupyter-widgets/controls",
            "_model_module_version": "1.5.0",
            "value": 102502400,
            "_view_count": null,
            "_view_module_version": "1.5.0",
            "orientation": "horizontal",
            "min": 0,
            "description_tooltip": null,
            "_model_module": "@jupyter-widgets/controls",
            "layout": "IPY_MODEL_6587a1b62f3a45fe8ce52bed0276317a"
          }
        },
        "b6f12900f163457e91708e1e973e1cfc": {
          "model_module": "@jupyter-widgets/controls",
          "model_name": "HTMLModel",
          "state": {
            "_view_name": "HTMLView",
            "style": "IPY_MODEL_9cc81197740c4a8d83b42ea3fcbd33f6",
            "_dom_classes": [],
            "description": "",
            "_model_name": "HTMLModel",
            "placeholder": "​",
            "_view_module": "@jupyter-widgets/controls",
            "_model_module_version": "1.5.0",
            "value": " 97.8M/97.8M [00:28&lt;00:00, 3.64MB/s]",
            "_view_count": null,
            "_view_module_version": "1.5.0",
            "description_tooltip": null,
            "_model_module": "@jupyter-widgets/controls",
            "layout": "IPY_MODEL_0ae661154cfb4db1afe3fe765af99d9a"
          }
        },
        "16285515ae044bafb5160188907c2099": {
          "model_module": "@jupyter-widgets/controls",
          "model_name": "ProgressStyleModel",
          "state": {
            "_view_name": "StyleView",
            "_model_name": "ProgressStyleModel",
            "description_width": "initial",
            "_view_module": "@jupyter-widgets/base",
            "_model_module_version": "1.5.0",
            "_view_count": null,
            "_view_module_version": "1.2.0",
            "bar_color": null,
            "_model_module": "@jupyter-widgets/controls"
          }
        },
        "6587a1b62f3a45fe8ce52bed0276317a": {
          "model_module": "@jupyter-widgets/base",
          "model_name": "LayoutModel",
          "state": {
            "_view_name": "LayoutView",
            "grid_template_rows": null,
            "right": null,
            "justify_content": null,
            "_view_module": "@jupyter-widgets/base",
            "overflow": null,
            "_model_module_version": "1.2.0",
            "_view_count": null,
            "flex_flow": null,
            "width": null,
            "min_width": null,
            "border": null,
            "align_items": null,
            "bottom": null,
            "_model_module": "@jupyter-widgets/base",
            "top": null,
            "grid_column": null,
            "overflow_y": null,
            "overflow_x": null,
            "grid_auto_flow": null,
            "grid_area": null,
            "grid_template_columns": null,
            "flex": null,
            "_model_name": "LayoutModel",
            "justify_items": null,
            "grid_row": null,
            "max_height": null,
            "align_content": null,
            "visibility": null,
            "align_self": null,
            "height": null,
            "min_height": null,
            "padding": null,
            "grid_auto_rows": null,
            "grid_gap": null,
            "max_width": null,
            "order": null,
            "_view_module_version": "1.2.0",
            "grid_template_areas": null,
            "object_position": null,
            "object_fit": null,
            "grid_auto_columns": null,
            "margin": null,
            "display": null,
            "left": null
          }
        },
        "9cc81197740c4a8d83b42ea3fcbd33f6": {
          "model_module": "@jupyter-widgets/controls",
          "model_name": "DescriptionStyleModel",
          "state": {
            "_view_name": "StyleView",
            "_model_name": "DescriptionStyleModel",
            "description_width": "",
            "_view_module": "@jupyter-widgets/base",
            "_model_module_version": "1.5.0",
            "_view_count": null,
            "_view_module_version": "1.2.0",
            "_model_module": "@jupyter-widgets/controls"
          }
        },
        "0ae661154cfb4db1afe3fe765af99d9a": {
          "model_module": "@jupyter-widgets/base",
          "model_name": "LayoutModel",
          "state": {
            "_view_name": "LayoutView",
            "grid_template_rows": null,
            "right": null,
            "justify_content": null,
            "_view_module": "@jupyter-widgets/base",
            "overflow": null,
            "_model_module_version": "1.2.0",
            "_view_count": null,
            "flex_flow": null,
            "width": null,
            "min_width": null,
            "border": null,
            "align_items": null,
            "bottom": null,
            "_model_module": "@jupyter-widgets/base",
            "top": null,
            "grid_column": null,
            "overflow_y": null,
            "overflow_x": null,
            "grid_auto_flow": null,
            "grid_area": null,
            "grid_template_columns": null,
            "flex": null,
            "_model_name": "LayoutModel",
            "justify_items": null,
            "grid_row": null,
            "max_height": null,
            "align_content": null,
            "visibility": null,
            "align_self": null,
            "height": null,
            "min_height": null,
            "padding": null,
            "grid_auto_rows": null,
            "grid_gap": null,
            "max_width": null,
            "order": null,
            "_view_module_version": "1.2.0",
            "grid_template_areas": null,
            "object_position": null,
            "object_fit": null,
            "grid_auto_columns": null,
            "margin": null,
            "display": null,
            "left": null
          }
        }
      }
    }
  },
  "cells": [
    {
      "cell_type": "markdown",
      "metadata": {
        "id": "view-in-github",
        "colab_type": "text"
      },
      "source": [
        "<a href=\"https://colab.research.google.com/github/soyoungpark9187/DeepLearning/blob/master/DL_competition.ipynb\" target=\"_parent\"><img src=\"https://colab.research.google.com/assets/colab-badge.svg\" alt=\"Open In Colab\"/></a>"
      ]
    },
    {
      "cell_type": "markdown",
      "metadata": {
        "id": "4QddRgDhVwZp",
        "colab_type": "text"
      },
      "source": [
        "**Competition 201735831 박소영**"
      ]
    },
    {
      "cell_type": "markdown",
      "metadata": {
        "id": "fj3c4mj7NrNF",
        "colab_type": "text"
      },
      "source": [
        "drive mount"
      ]
    },
    {
      "cell_type": "code",
      "metadata": {
        "id": "cRRNMf8_M8iX",
        "colab_type": "code",
        "colab": {
          "base_uri": "https://localhost:8080/",
          "height": 35
        },
        "outputId": "70df0dd5-7a9c-468e-eb41-084cf92edfda"
      },
      "source": [
        "from google.colab import drive\n",
        "  \n",
        "drive.mount('/content/drive')"
      ],
      "execution_count": 1,
      "outputs": [
        {
          "output_type": "stream",
          "text": [
            "Drive already mounted at /content/drive; to attempt to forcibly remount, call drive.mount(\"/content/drive\", force_remount=True).\n"
          ],
          "name": "stdout"
        }
      ]
    },
    {
      "cell_type": "code",
      "metadata": {
        "id": "8FluLChPf61G",
        "colab_type": "code",
        "colab": {}
      },
      "source": [
        "import torch\n",
        "import os\n",
        "from skimage import io\n",
        "from skimage.util import random_noise\n",
        "import matplotlib.pyplot as plt\n",
        "from torch.utils.data import Dataset, DataLoader, ConcatDataset\n",
        "import numpy as np\n",
        "import torchvision.transforms as transforms\n",
        "import torch.nn.functional as F\n",
        "import torch.nn as nn\n",
        "import cv2\n",
        "import pandas as pd"
      ],
      "execution_count": 2,
      "outputs": []
    },
    {
      "cell_type": "code",
      "metadata": {
        "id": "FSRr2AS7eJzP",
        "colab_type": "code",
        "colab": {}
      },
      "source": [
        "def _resnet(arch, block, layers, pretrained, progress, **kwargs):\n",
        "    model = ResNet(block, layers, **kwargs)\n",
        "    if pretrained:\n",
        "        # download pretrained weight\n",
        "        state_dict = load_state_dict_from_url(model_urls[arch],progress=progress)\n",
        "        # assign to model\n",
        "        model.load_state_dict(state_dict)\n",
        "    return model"
      ],
      "execution_count": 3,
      "outputs": []
    },
    {
      "cell_type": "code",
      "metadata": {
        "id": "CE-JT1BoeLuy",
        "colab_type": "code",
        "colab": {}
      },
      "source": [
        "def resnet50(pretrained=False, progress=True, **kwargs):\n",
        "    r\"\"\"ResNet-50 model from\n",
        "    `\"Deep Residual Learning for Image Recognition\" <https://arxiv.org/pdf/1512.03385.pdf>`_\n",
        "    Args:\n",
        "        pretrained (bool): If True, returns a model pre-trained on ImageNet\n",
        "        progress (bool): If True, displays a progress bar of the download to stderr\n",
        "    \"\"\"\n",
        "    return _resnet('resnet50', BasicBlock, [2, 2, 2, 2], pretrained, progress,\n",
        "                   **kwargs)"
      ],
      "execution_count": 4,
      "outputs": []
    },
    {
      "cell_type": "markdown",
      "metadata": {
        "id": "GtGspMapOHeC",
        "colab_type": "text"
      },
      "source": [
        "model"
      ]
    },
    {
      "cell_type": "code",
      "metadata": {
        "id": "nas9FBCIOIMq",
        "colab_type": "code",
        "colab": {
          "base_uri": "https://localhost:8080/",
          "height": 1000,
          "referenced_widgets": [
            "90bea92bfc024adfa212c82ca5837dd2",
            "edfb53bb23c1448187facf267604958d",
            "212097a2b5ac4c56a36db4d4cfe627a2",
            "b6f12900f163457e91708e1e973e1cfc",
            "16285515ae044bafb5160188907c2099",
            "6587a1b62f3a45fe8ce52bed0276317a",
            "9cc81197740c4a8d83b42ea3fcbd33f6",
            "0ae661154cfb4db1afe3fe765af99d9a"
          ]
        },
        "outputId": "26565e17-ae42-4b7d-a92b-b76fb6224d81"
      },
      "source": [
        "from torchvision import models\n",
        "import torch\n",
        "\n",
        "use_cuda = True\n",
        "device = torch.device(\"cuda\" if use_cuda else \"cpu\")\n",
        "\n",
        "model = models.resnet50(pretrained=True)\n",
        "\n",
        "# last layer modification\n",
        "model.fc = nn.Linear(2048, 4)\n",
        "model.to(device)"
      ],
      "execution_count": 5,
      "outputs": [
        {
          "output_type": "stream",
          "text": [
            "Downloading: \"https://download.pytorch.org/models/resnet50-19c8e357.pth\" to /root/.cache/torch/checkpoints/resnet50-19c8e357.pth\n"
          ],
          "name": "stderr"
        },
        {
          "output_type": "display_data",
          "data": {
            "application/vnd.jupyter.widget-view+json": {
              "model_id": "90bea92bfc024adfa212c82ca5837dd2",
              "version_minor": 0,
              "version_major": 2
            },
            "text/plain": [
              "HBox(children=(FloatProgress(value=0.0, max=102502400.0), HTML(value='')))"
            ]
          },
          "metadata": {
            "tags": []
          }
        },
        {
          "output_type": "stream",
          "text": [
            "\n"
          ],
          "name": "stdout"
        },
        {
          "output_type": "execute_result",
          "data": {
            "text/plain": [
              "ResNet(\n",
              "  (conv1): Conv2d(3, 64, kernel_size=(7, 7), stride=(2, 2), padding=(3, 3), bias=False)\n",
              "  (bn1): BatchNorm2d(64, eps=1e-05, momentum=0.1, affine=True, track_running_stats=True)\n",
              "  (relu): ReLU(inplace=True)\n",
              "  (maxpool): MaxPool2d(kernel_size=3, stride=2, padding=1, dilation=1, ceil_mode=False)\n",
              "  (layer1): Sequential(\n",
              "    (0): Bottleneck(\n",
              "      (conv1): Conv2d(64, 64, kernel_size=(1, 1), stride=(1, 1), bias=False)\n",
              "      (bn1): BatchNorm2d(64, eps=1e-05, momentum=0.1, affine=True, track_running_stats=True)\n",
              "      (conv2): Conv2d(64, 64, kernel_size=(3, 3), stride=(1, 1), padding=(1, 1), bias=False)\n",
              "      (bn2): BatchNorm2d(64, eps=1e-05, momentum=0.1, affine=True, track_running_stats=True)\n",
              "      (conv3): Conv2d(64, 256, kernel_size=(1, 1), stride=(1, 1), bias=False)\n",
              "      (bn3): BatchNorm2d(256, eps=1e-05, momentum=0.1, affine=True, track_running_stats=True)\n",
              "      (relu): ReLU(inplace=True)\n",
              "      (downsample): Sequential(\n",
              "        (0): Conv2d(64, 256, kernel_size=(1, 1), stride=(1, 1), bias=False)\n",
              "        (1): BatchNorm2d(256, eps=1e-05, momentum=0.1, affine=True, track_running_stats=True)\n",
              "      )\n",
              "    )\n",
              "    (1): Bottleneck(\n",
              "      (conv1): Conv2d(256, 64, kernel_size=(1, 1), stride=(1, 1), bias=False)\n",
              "      (bn1): BatchNorm2d(64, eps=1e-05, momentum=0.1, affine=True, track_running_stats=True)\n",
              "      (conv2): Conv2d(64, 64, kernel_size=(3, 3), stride=(1, 1), padding=(1, 1), bias=False)\n",
              "      (bn2): BatchNorm2d(64, eps=1e-05, momentum=0.1, affine=True, track_running_stats=True)\n",
              "      (conv3): Conv2d(64, 256, kernel_size=(1, 1), stride=(1, 1), bias=False)\n",
              "      (bn3): BatchNorm2d(256, eps=1e-05, momentum=0.1, affine=True, track_running_stats=True)\n",
              "      (relu): ReLU(inplace=True)\n",
              "    )\n",
              "    (2): Bottleneck(\n",
              "      (conv1): Conv2d(256, 64, kernel_size=(1, 1), stride=(1, 1), bias=False)\n",
              "      (bn1): BatchNorm2d(64, eps=1e-05, momentum=0.1, affine=True, track_running_stats=True)\n",
              "      (conv2): Conv2d(64, 64, kernel_size=(3, 3), stride=(1, 1), padding=(1, 1), bias=False)\n",
              "      (bn2): BatchNorm2d(64, eps=1e-05, momentum=0.1, affine=True, track_running_stats=True)\n",
              "      (conv3): Conv2d(64, 256, kernel_size=(1, 1), stride=(1, 1), bias=False)\n",
              "      (bn3): BatchNorm2d(256, eps=1e-05, momentum=0.1, affine=True, track_running_stats=True)\n",
              "      (relu): ReLU(inplace=True)\n",
              "    )\n",
              "  )\n",
              "  (layer2): Sequential(\n",
              "    (0): Bottleneck(\n",
              "      (conv1): Conv2d(256, 128, kernel_size=(1, 1), stride=(1, 1), bias=False)\n",
              "      (bn1): BatchNorm2d(128, eps=1e-05, momentum=0.1, affine=True, track_running_stats=True)\n",
              "      (conv2): Conv2d(128, 128, kernel_size=(3, 3), stride=(2, 2), padding=(1, 1), bias=False)\n",
              "      (bn2): BatchNorm2d(128, eps=1e-05, momentum=0.1, affine=True, track_running_stats=True)\n",
              "      (conv3): Conv2d(128, 512, kernel_size=(1, 1), stride=(1, 1), bias=False)\n",
              "      (bn3): BatchNorm2d(512, eps=1e-05, momentum=0.1, affine=True, track_running_stats=True)\n",
              "      (relu): ReLU(inplace=True)\n",
              "      (downsample): Sequential(\n",
              "        (0): Conv2d(256, 512, kernel_size=(1, 1), stride=(2, 2), bias=False)\n",
              "        (1): BatchNorm2d(512, eps=1e-05, momentum=0.1, affine=True, track_running_stats=True)\n",
              "      )\n",
              "    )\n",
              "    (1): Bottleneck(\n",
              "      (conv1): Conv2d(512, 128, kernel_size=(1, 1), stride=(1, 1), bias=False)\n",
              "      (bn1): BatchNorm2d(128, eps=1e-05, momentum=0.1, affine=True, track_running_stats=True)\n",
              "      (conv2): Conv2d(128, 128, kernel_size=(3, 3), stride=(1, 1), padding=(1, 1), bias=False)\n",
              "      (bn2): BatchNorm2d(128, eps=1e-05, momentum=0.1, affine=True, track_running_stats=True)\n",
              "      (conv3): Conv2d(128, 512, kernel_size=(1, 1), stride=(1, 1), bias=False)\n",
              "      (bn3): BatchNorm2d(512, eps=1e-05, momentum=0.1, affine=True, track_running_stats=True)\n",
              "      (relu): ReLU(inplace=True)\n",
              "    )\n",
              "    (2): Bottleneck(\n",
              "      (conv1): Conv2d(512, 128, kernel_size=(1, 1), stride=(1, 1), bias=False)\n",
              "      (bn1): BatchNorm2d(128, eps=1e-05, momentum=0.1, affine=True, track_running_stats=True)\n",
              "      (conv2): Conv2d(128, 128, kernel_size=(3, 3), stride=(1, 1), padding=(1, 1), bias=False)\n",
              "      (bn2): BatchNorm2d(128, eps=1e-05, momentum=0.1, affine=True, track_running_stats=True)\n",
              "      (conv3): Conv2d(128, 512, kernel_size=(1, 1), stride=(1, 1), bias=False)\n",
              "      (bn3): BatchNorm2d(512, eps=1e-05, momentum=0.1, affine=True, track_running_stats=True)\n",
              "      (relu): ReLU(inplace=True)\n",
              "    )\n",
              "    (3): Bottleneck(\n",
              "      (conv1): Conv2d(512, 128, kernel_size=(1, 1), stride=(1, 1), bias=False)\n",
              "      (bn1): BatchNorm2d(128, eps=1e-05, momentum=0.1, affine=True, track_running_stats=True)\n",
              "      (conv2): Conv2d(128, 128, kernel_size=(3, 3), stride=(1, 1), padding=(1, 1), bias=False)\n",
              "      (bn2): BatchNorm2d(128, eps=1e-05, momentum=0.1, affine=True, track_running_stats=True)\n",
              "      (conv3): Conv2d(128, 512, kernel_size=(1, 1), stride=(1, 1), bias=False)\n",
              "      (bn3): BatchNorm2d(512, eps=1e-05, momentum=0.1, affine=True, track_running_stats=True)\n",
              "      (relu): ReLU(inplace=True)\n",
              "    )\n",
              "  )\n",
              "  (layer3): Sequential(\n",
              "    (0): Bottleneck(\n",
              "      (conv1): Conv2d(512, 256, kernel_size=(1, 1), stride=(1, 1), bias=False)\n",
              "      (bn1): BatchNorm2d(256, eps=1e-05, momentum=0.1, affine=True, track_running_stats=True)\n",
              "      (conv2): Conv2d(256, 256, kernel_size=(3, 3), stride=(2, 2), padding=(1, 1), bias=False)\n",
              "      (bn2): BatchNorm2d(256, eps=1e-05, momentum=0.1, affine=True, track_running_stats=True)\n",
              "      (conv3): Conv2d(256, 1024, kernel_size=(1, 1), stride=(1, 1), bias=False)\n",
              "      (bn3): BatchNorm2d(1024, eps=1e-05, momentum=0.1, affine=True, track_running_stats=True)\n",
              "      (relu): ReLU(inplace=True)\n",
              "      (downsample): Sequential(\n",
              "        (0): Conv2d(512, 1024, kernel_size=(1, 1), stride=(2, 2), bias=False)\n",
              "        (1): BatchNorm2d(1024, eps=1e-05, momentum=0.1, affine=True, track_running_stats=True)\n",
              "      )\n",
              "    )\n",
              "    (1): Bottleneck(\n",
              "      (conv1): Conv2d(1024, 256, kernel_size=(1, 1), stride=(1, 1), bias=False)\n",
              "      (bn1): BatchNorm2d(256, eps=1e-05, momentum=0.1, affine=True, track_running_stats=True)\n",
              "      (conv2): Conv2d(256, 256, kernel_size=(3, 3), stride=(1, 1), padding=(1, 1), bias=False)\n",
              "      (bn2): BatchNorm2d(256, eps=1e-05, momentum=0.1, affine=True, track_running_stats=True)\n",
              "      (conv3): Conv2d(256, 1024, kernel_size=(1, 1), stride=(1, 1), bias=False)\n",
              "      (bn3): BatchNorm2d(1024, eps=1e-05, momentum=0.1, affine=True, track_running_stats=True)\n",
              "      (relu): ReLU(inplace=True)\n",
              "    )\n",
              "    (2): Bottleneck(\n",
              "      (conv1): Conv2d(1024, 256, kernel_size=(1, 1), stride=(1, 1), bias=False)\n",
              "      (bn1): BatchNorm2d(256, eps=1e-05, momentum=0.1, affine=True, track_running_stats=True)\n",
              "      (conv2): Conv2d(256, 256, kernel_size=(3, 3), stride=(1, 1), padding=(1, 1), bias=False)\n",
              "      (bn2): BatchNorm2d(256, eps=1e-05, momentum=0.1, affine=True, track_running_stats=True)\n",
              "      (conv3): Conv2d(256, 1024, kernel_size=(1, 1), stride=(1, 1), bias=False)\n",
              "      (bn3): BatchNorm2d(1024, eps=1e-05, momentum=0.1, affine=True, track_running_stats=True)\n",
              "      (relu): ReLU(inplace=True)\n",
              "    )\n",
              "    (3): Bottleneck(\n",
              "      (conv1): Conv2d(1024, 256, kernel_size=(1, 1), stride=(1, 1), bias=False)\n",
              "      (bn1): BatchNorm2d(256, eps=1e-05, momentum=0.1, affine=True, track_running_stats=True)\n",
              "      (conv2): Conv2d(256, 256, kernel_size=(3, 3), stride=(1, 1), padding=(1, 1), bias=False)\n",
              "      (bn2): BatchNorm2d(256, eps=1e-05, momentum=0.1, affine=True, track_running_stats=True)\n",
              "      (conv3): Conv2d(256, 1024, kernel_size=(1, 1), stride=(1, 1), bias=False)\n",
              "      (bn3): BatchNorm2d(1024, eps=1e-05, momentum=0.1, affine=True, track_running_stats=True)\n",
              "      (relu): ReLU(inplace=True)\n",
              "    )\n",
              "    (4): Bottleneck(\n",
              "      (conv1): Conv2d(1024, 256, kernel_size=(1, 1), stride=(1, 1), bias=False)\n",
              "      (bn1): BatchNorm2d(256, eps=1e-05, momentum=0.1, affine=True, track_running_stats=True)\n",
              "      (conv2): Conv2d(256, 256, kernel_size=(3, 3), stride=(1, 1), padding=(1, 1), bias=False)\n",
              "      (bn2): BatchNorm2d(256, eps=1e-05, momentum=0.1, affine=True, track_running_stats=True)\n",
              "      (conv3): Conv2d(256, 1024, kernel_size=(1, 1), stride=(1, 1), bias=False)\n",
              "      (bn3): BatchNorm2d(1024, eps=1e-05, momentum=0.1, affine=True, track_running_stats=True)\n",
              "      (relu): ReLU(inplace=True)\n",
              "    )\n",
              "    (5): Bottleneck(\n",
              "      (conv1): Conv2d(1024, 256, kernel_size=(1, 1), stride=(1, 1), bias=False)\n",
              "      (bn1): BatchNorm2d(256, eps=1e-05, momentum=0.1, affine=True, track_running_stats=True)\n",
              "      (conv2): Conv2d(256, 256, kernel_size=(3, 3), stride=(1, 1), padding=(1, 1), bias=False)\n",
              "      (bn2): BatchNorm2d(256, eps=1e-05, momentum=0.1, affine=True, track_running_stats=True)\n",
              "      (conv3): Conv2d(256, 1024, kernel_size=(1, 1), stride=(1, 1), bias=False)\n",
              "      (bn3): BatchNorm2d(1024, eps=1e-05, momentum=0.1, affine=True, track_running_stats=True)\n",
              "      (relu): ReLU(inplace=True)\n",
              "    )\n",
              "  )\n",
              "  (layer4): Sequential(\n",
              "    (0): Bottleneck(\n",
              "      (conv1): Conv2d(1024, 512, kernel_size=(1, 1), stride=(1, 1), bias=False)\n",
              "      (bn1): BatchNorm2d(512, eps=1e-05, momentum=0.1, affine=True, track_running_stats=True)\n",
              "      (conv2): Conv2d(512, 512, kernel_size=(3, 3), stride=(2, 2), padding=(1, 1), bias=False)\n",
              "      (bn2): BatchNorm2d(512, eps=1e-05, momentum=0.1, affine=True, track_running_stats=True)\n",
              "      (conv3): Conv2d(512, 2048, kernel_size=(1, 1), stride=(1, 1), bias=False)\n",
              "      (bn3): BatchNorm2d(2048, eps=1e-05, momentum=0.1, affine=True, track_running_stats=True)\n",
              "      (relu): ReLU(inplace=True)\n",
              "      (downsample): Sequential(\n",
              "        (0): Conv2d(1024, 2048, kernel_size=(1, 1), stride=(2, 2), bias=False)\n",
              "        (1): BatchNorm2d(2048, eps=1e-05, momentum=0.1, affine=True, track_running_stats=True)\n",
              "      )\n",
              "    )\n",
              "    (1): Bottleneck(\n",
              "      (conv1): Conv2d(2048, 512, kernel_size=(1, 1), stride=(1, 1), bias=False)\n",
              "      (bn1): BatchNorm2d(512, eps=1e-05, momentum=0.1, affine=True, track_running_stats=True)\n",
              "      (conv2): Conv2d(512, 512, kernel_size=(3, 3), stride=(1, 1), padding=(1, 1), bias=False)\n",
              "      (bn2): BatchNorm2d(512, eps=1e-05, momentum=0.1, affine=True, track_running_stats=True)\n",
              "      (conv3): Conv2d(512, 2048, kernel_size=(1, 1), stride=(1, 1), bias=False)\n",
              "      (bn3): BatchNorm2d(2048, eps=1e-05, momentum=0.1, affine=True, track_running_stats=True)\n",
              "      (relu): ReLU(inplace=True)\n",
              "    )\n",
              "    (2): Bottleneck(\n",
              "      (conv1): Conv2d(2048, 512, kernel_size=(1, 1), stride=(1, 1), bias=False)\n",
              "      (bn1): BatchNorm2d(512, eps=1e-05, momentum=0.1, affine=True, track_running_stats=True)\n",
              "      (conv2): Conv2d(512, 512, kernel_size=(3, 3), stride=(1, 1), padding=(1, 1), bias=False)\n",
              "      (bn2): BatchNorm2d(512, eps=1e-05, momentum=0.1, affine=True, track_running_stats=True)\n",
              "      (conv3): Conv2d(512, 2048, kernel_size=(1, 1), stride=(1, 1), bias=False)\n",
              "      (bn3): BatchNorm2d(2048, eps=1e-05, momentum=0.1, affine=True, track_running_stats=True)\n",
              "      (relu): ReLU(inplace=True)\n",
              "    )\n",
              "  )\n",
              "  (avgpool): AdaptiveAvgPool2d(output_size=(1, 1))\n",
              "  (fc): Linear(in_features=2048, out_features=4, bias=True)\n",
              ")"
            ]
          },
          "metadata": {
            "tags": []
          },
          "execution_count": 5
        }
      ]
    },
    {
      "cell_type": "markdown",
      "metadata": {
        "id": "9oFlrOVqNyGb",
        "colab_type": "text"
      },
      "source": [
        "train"
      ]
    },
    {
      "cell_type": "code",
      "metadata": {
        "id": "raDZdr1KOKbZ",
        "colab_type": "code",
        "colab": {}
      },
      "source": [
        "def train(model, train_loader, optimizer, epoch):\n",
        "  model.train()\n",
        "  for batch_idx, (image, target) in enumerate(train_loader):\n",
        "    data, target = image.to(DEVICE), target.to(DEVICE)\n",
        "    optimizer.zero_grad()\n",
        "    output = model(data)\n",
        "    loss = F.cross_entropy(output, target)\n",
        "    loss.backward()\n",
        "    optimizer.step()\n",
        "\n",
        "    if batch_idx % 150 == 0 :\n",
        "      print('Train Epoch : {} [{}/{} ({:.0f})%]\\tLoss: {:.6f}'\n",
        "      .format(epoch, batch_idx*len(image),len(train_loader.dataset), 100.*batch_idx / len(train_loader), loss.item()))\n",
        "\n",
        "def evaluate(model, test_loader):\n",
        "  model.eval()\n",
        "  test_loss =0\n",
        "  correct =0\n",
        "  with torch.no_grad():\n",
        "    for (image, target) in test_loader:\n",
        "      image, label = image.to(DEVICE), target.to(DEVICE)\n",
        "      output = model(image)\n",
        "\n",
        "      test_loss += F.cross_entropy(output, label, reduction='sum').item()\n",
        "      pred = output.max(1, keepdim=True)[1]\n",
        "      correct+= pred.eq(label.view_as(pred)).sum().item()\n",
        "  \n",
        "  test_loss /= len(test_loader.dataset)\n",
        "  test_accuracy = 100. * correct / len(test_loader.dataset)\n",
        "  return test_loss, test_accuracy"
      ],
      "execution_count": 6,
      "outputs": []
    },
    {
      "cell_type": "markdown",
      "metadata": {
        "id": "rBiz9VjST3az",
        "colab_type": "text"
      },
      "source": [
        "data augmentation methods"
      ]
    },
    {
      "cell_type": "code",
      "metadata": {
        "id": "HVN4wFe7T3Ba",
        "colab_type": "code",
        "colab": {}
      },
      "source": [
        "def augmentation(image):\n",
        "    height, width, channel = image.shape\n",
        "    # random rotation degree\n",
        "    degree = np.random.randint(0,360)\n",
        "    \n",
        "    # color\n",
        "    b = idx = np.random.randint(255)\n",
        "    g = idx = np.random.randint(255)\n",
        "    r = idx = np.random.randint(255)\n",
        "    # pt1 #TODO: 범위\n",
        "    y1 = np.random.randint(height/2)\n",
        "    x1 = np.random.randint(width/2)\n",
        "\n",
        "    # pt2\n",
        "    y2 = np.random.randint(y1+50, y1+(height-y1)/2)\n",
        "    x2 = np.random.randint(x1+50, x1+(width-x1)/2)\n",
        "\n",
        "    # noise\n",
        "    n = np.random.random();\n",
        "\n",
        "    matrix = cv2.getRotationMatrix2D((width/2, height/2), degree, 1)\n",
        "\n",
        "    image = cv2.warpAffine(image, matrix, (width, height))\n",
        "\n",
        "    image = cv2.rectangle(image, (y1, x1), (y2, x2), (b, g, r), -1)\n",
        "\n",
        "    image = random_noise(image, mode='gaussian', mean=0, var=n)\n",
        "\n",
        "    return image"
      ],
      "execution_count": 7,
      "outputs": []
    },
    {
      "cell_type": "code",
      "metadata": {
        "id": "jdffMRVN8sh8",
        "colab_type": "code",
        "colab": {
          "base_uri": "https://localhost:8080/",
          "height": 35
        },
        "outputId": "747e65dd-b83c-4ed8-e26a-18e502913cc4"
      },
      "source": [
        "os.chdir(\"/content/drive/My Drive\")\n",
        "os.getcwd()"
      ],
      "execution_count": 8,
      "outputs": [
        {
          "output_type": "execute_result",
          "data": {
            "application/vnd.google.colaboratory.intrinsic": {
              "type": "string"
            },
            "text/plain": [
              "'/content/drive/My Drive'"
            ]
          },
          "metadata": {
            "tags": []
          },
          "execution_count": 8
        }
      ]
    },
    {
      "cell_type": "markdown",
      "metadata": {
        "id": "SpupiKNmsShB",
        "colab_type": "text"
      },
      "source": [
        "test augmentation"
      ]
    },
    {
      "cell_type": "code",
      "metadata": {
        "id": "h6P8bbpMqa5R",
        "colab_type": "code",
        "colab": {
          "base_uri": "https://localhost:8080/",
          "height": 287
        },
        "outputId": "4c594ec2-2cf5-48c1-c486-3493d7900c1f"
      },
      "source": [
        "image = plt.imread(\"./swdl2020/train/cheetah_train_resized\"+\"/cheetah_899_resized.jpg\")\n",
        "\n",
        "height, width, channel = image.shape\n",
        "# random rotation degree\n",
        "degree = np.random.randint(0,360)\n",
        "# color\n",
        "b = idx = np.random.randint(255)\n",
        "g = idx = np.random.randint(255)\n",
        "r = idx = np.random.randint(255)\n",
        "\n",
        "# pt1 #TODO: 범위\n",
        "y1 = np.random.randint(height/2)\n",
        "x1 = np.random.randint(width/2)\n",
        "\n",
        "# pt2\n",
        "y2 = np.random.randint(y1+50, y1+(height-y1)/2)\n",
        "x2 = np.random.randint(x1+50, x1+(width-x1)/2)\n",
        "\n",
        "# noise\n",
        "n = np.random.random();\n",
        "\n",
        "matrix = cv2.getRotationMatrix2D((width/2, height/2), degree, 1)\n",
        "\n",
        "image = cv2.warpAffine(image, matrix, (width, height))\n",
        "\n",
        "image = cv2.rectangle(image, (y1, x1), (y2, x2), (b, g, r), -1)\n",
        "\n",
        "image = random_noise(image, mode='gaussian', mean=0, var=n)\n",
        "\n",
        "plt.imshow(image)"
      ],
      "execution_count": 9,
      "outputs": [
        {
          "output_type": "execute_result",
          "data": {
            "text/plain": [
              "<matplotlib.image.AxesImage at 0x7f90b1f92b38>"
            ]
          },
          "metadata": {
            "tags": []
          },
          "execution_count": 9
        },
        {
          "output_type": "display_data",
          "data": {
            "image/png": "[encoded data removed]",
            "text/plain": [
              "<Figure size 432x288 with 1 Axes>"
            ]
          },
          "metadata": {
            "tags": [],
            "needs_background": "light"
          }
        }
      ]
    },
    {
      "cell_type": "markdown",
      "metadata": {
        "id": "SBmmc-ibNuVx",
        "colab_type": "text"
      },
      "source": [
        "data load"
      ]
    },
    {
      "cell_type": "code",
      "metadata": {
        "id": "Aqmlg6rykEoV",
        "colab_type": "code",
        "colab": {
          "base_uri": "https://localhost:8080/",
          "height": 53
        },
        "outputId": "eab04a69-0701-4e26-b723-1091259b2a59"
      },
      "source": [
        "USE_CUDA = torch.cuda.is_available()\n",
        "DEVICE = torch.device(\"cuda\" if USE_CUDA else \"cpu\")\n",
        "\n",
        "BATCH_SIZE = 16\n",
        "\n",
        "transform = transforms.Compose([\n",
        "    transforms.ToTensor(),\n",
        "    transforms.Normalize(mean=[0.485,0.456,0.406],\n",
        "                        std=[0.229,0.224,0.225])\n",
        "])\n",
        "class MyDataset(Dataset):\n",
        "  def __init__(self, image_dir, label, transforms=None):\n",
        "    self.image_dir = image_dir\n",
        "    self.label = label\n",
        "    self.image_list = os.listdir(self.image_dir)\n",
        "    self.transforms = transform\n",
        "  \n",
        "  def __len__(self):\n",
        "    return len(self.image_list)\n",
        "  \n",
        "  def __getitem__(self,idx):\n",
        "    # if torch.is_tensor(idx):\n",
        "    #   idx = idx.tolist()\n",
        "\n",
        "    image_name = os.path.join(self.image_dir, self.image_list[idx])\n",
        "    image = io.imread(image_name)\n",
        "\n",
        "    ### transform\n",
        "    image = transform(image)\n",
        "\n",
        "    # type casting\n",
        "    image=image.type(torch.cuda.FloatTensor)\n",
        "    return (image,self.label)\n",
        "    \n",
        "class MyDataset_a(Dataset):\n",
        "  def __init__(self, image_dir, label, transforms=None):\n",
        "    self.image_dir = image_dir\n",
        "    self.label = label\n",
        "    self.image_list = os.listdir(self.image_dir)\n",
        "    self.transforms = transform\n",
        "  \n",
        "  def __len__(self):\n",
        "    return len(self.image_list)\n",
        "  \n",
        "  def __getitem__(self,idx):\n",
        "    # if torch.is_tensor(idx):\n",
        "    #   idx = idx.tolist()\n",
        "\n",
        "    image_name = os.path.join(self.image_dir, self.image_list[idx])\n",
        "    image = io.imread(image_name)\n",
        "\n",
        "    image = augmentation(image)\n",
        "\n",
        "    ### transform\n",
        "    image = transform(image)\n",
        "\n",
        "    # type casting\n",
        "    image=image.type(torch.cuda.FloatTensor)\n",
        "    return (image,self.label)\n",
        "\n",
        "#cheetah : 0 , jaguar : 1, tiger : 2, hyena : 3\n",
        "\n",
        "# original train\n",
        "cheetah_train = MyDataset(\"./swdl2020/train/cheetah_train_resized\",0,transform)\n",
        "jaguar_train = MyDataset(\"./swdl2020/train/jaguar_train_resized\",1,transform)\n",
        "tiger_train = MyDataset(\"./swdl2020/train/tiger_train_resized\",2,transform)\n",
        "hyena_train = MyDataset(\"./swdl2020/train/hyena_train_resized\",3,transform)\n",
        "\n",
        "#augment train\n",
        "cheetah_train_a = MyDataset_a(\"./swdl2020/train/cheetah_train_resized\",0,transform)\n",
        "jaguar_train_a = MyDataset_a(\"./swdl2020/train/jaguar_train_resized\",1,transform)\n",
        "tiger_train_a = MyDataset_a(\"./swdl2020/train/tiger_train_resized\",2,transform)\n",
        "hyena_train_a = MyDataset_a(\"./swdl2020/train/hyena_train_resized\",3,transform)\n",
        "\n",
        "train_set = ConcatDataset([cheetah_train, jaguar_train, tiger_train, hyena_train,\n",
        "                           cheetah_train_a, jaguar_train_a, tiger_train_a, hyena_train_a])\n",
        "print(\"Number of Training set images : \", len(train_set))\n",
        "\n",
        "#augment val\n",
        "cheetah_val = MyDataset(\"./swdl2020/validation/cheetah_validation_resized\",0, transform)\n",
        "jaguar_val = MyDataset(\"./swdl2020/validation/jaguar_validation_resized\",1, transform)\n",
        "tiger_val = MyDataset(\"./swdl2020/validation/tiger_validation_resized\",2, transform)\n",
        "hyena_val = MyDataset(\"./swdl2020/validation/hyena_validation_resized\",3,transform)\n",
        "\n",
        "#augment val\n",
        "cheetah_val_a = MyDataset_a(\"./swdl2020/validation/cheetah_validation_resized\",0, transform)\n",
        "jaguar_val_a = MyDataset_a(\"./swdl2020/validation/jaguar_validation_resized\",1, transform)\n",
        "tiger_val_a = MyDataset_a(\"./swdl2020/validation/tiger_validation_resized\",2, transform)\n",
        "hyena_val_a = MyDataset_a(\"./swdl2020/validation/hyena_validation_resized\",3,transform)\n",
        "\n",
        "val_set = ConcatDataset([cheetah_val, jaguar_val, tiger_val, hyena_val, cheetah_val_a, jaguar_val_a, tiger_val_a, hyena_val_a])\n",
        "print(\"Numver of Validation set images : \", len(val_set))\n",
        "\n",
        "train_loader = DataLoader(train_set, batch_size=BATCH_SIZE, shuffle = True)\n",
        "val_loader = DataLoader(val_set, batch_size=BATCH_SIZE, shuffle=True)"
      ],
      "execution_count": 12,
      "outputs": [
        {
          "output_type": "stream",
          "text": [
            "Number of Training set images :  7200\n",
            "Numver of Validation set images :  800\n"
          ],
          "name": "stdout"
        }
      ]
    },
    {
      "cell_type": "markdown",
      "metadata": {
        "id": "4R7sx3qKOKkl",
        "colab_type": "text"
      },
      "source": [
        "execute"
      ]
    },
    {
      "cell_type": "code",
      "metadata": {
        "id": "FVh37dJzOLdC",
        "colab_type": "code",
        "colab": {
          "base_uri": "https://localhost:8080/",
          "height": 737
        },
        "outputId": "8b1086af-7d1f-4fce-d9e2-153ee85974d3"
      },
      "source": [
        "import torch.optim as optim\n",
        "learnning_rate = 0.01\n",
        "EPOCH = 10\n",
        "\n",
        "optimizer = optim.Adadelta(model.parameters(), lr=learnning_rate)\n",
        "scheduler = torch.optim.lr_scheduler.StepLR(optimizer, step_size=1, gamma=0.1)\n",
        "loss_function = nn.CrossEntropyLoss()\n",
        "\n",
        "for epoch in range(1, EPOCH+1):\n",
        "    train(model, train_loader, optimizer, epoch)\n",
        "    test_loss, test_accuracy = evaluate(model, val_loader)\n",
        "    print('[{}] Test Loss : {:.4f}, Accuracy : {:.4f}%'.format(epoch, test_loss, test_accuracy))"
      ],
      "execution_count": 13,
      "outputs": [
        {
          "output_type": "stream",
          "text": [
            "Train Epoch : 1 [0/7200 (0)%]\tLoss: 1.472665\n",
            "Train Epoch : 1 [2400/7200 (33)%]\tLoss: 0.510058\n",
            "Train Epoch : 1 [4800/7200 (67)%]\tLoss: 0.436449\n",
            "[1] Test Loss : 0.2295, Accuracy : 93.0000%\n",
            "Train Epoch : 2 [0/7200 (0)%]\tLoss: 0.169707\n",
            "Train Epoch : 2 [2400/7200 (33)%]\tLoss: 0.187029\n",
            "Train Epoch : 2 [4800/7200 (67)%]\tLoss: 0.369818\n",
            "[2] Test Loss : 0.1726, Accuracy : 94.0000%\n",
            "Train Epoch : 3 [0/7200 (0)%]\tLoss: 0.572164\n",
            "Train Epoch : 3 [2400/7200 (33)%]\tLoss: 0.120626\n",
            "Train Epoch : 3 [4800/7200 (67)%]\tLoss: 0.093629\n",
            "[3] Test Loss : 0.1426, Accuracy : 95.2500%\n",
            "Train Epoch : 4 [0/7200 (0)%]\tLoss: 0.115247\n",
            "Train Epoch : 4 [2400/7200 (33)%]\tLoss: 0.199230\n",
            "Train Epoch : 4 [4800/7200 (67)%]\tLoss: 0.317218\n",
            "[4] Test Loss : 0.1721, Accuracy : 94.0000%\n",
            "Train Epoch : 5 [0/7200 (0)%]\tLoss: 0.410584\n",
            "Train Epoch : 5 [2400/7200 (33)%]\tLoss: 0.360885\n",
            "Train Epoch : 5 [4800/7200 (67)%]\tLoss: 0.118183\n",
            "[5] Test Loss : 0.1108, Accuracy : 96.6250%\n",
            "Train Epoch : 6 [0/7200 (0)%]\tLoss: 0.053962\n",
            "Train Epoch : 6 [2400/7200 (33)%]\tLoss: 0.176724\n",
            "Train Epoch : 6 [4800/7200 (67)%]\tLoss: 0.182973\n",
            "[6] Test Loss : 0.1349, Accuracy : 95.3750%\n",
            "Train Epoch : 7 [0/7200 (0)%]\tLoss: 0.309436\n",
            "Train Epoch : 7 [2400/7200 (33)%]\tLoss: 0.205850\n",
            "Train Epoch : 7 [4800/7200 (67)%]\tLoss: 0.069763\n",
            "[7] Test Loss : 0.1135, Accuracy : 96.5000%\n",
            "Train Epoch : 8 [0/7200 (0)%]\tLoss: 0.142162\n",
            "Train Epoch : 8 [2400/7200 (33)%]\tLoss: 0.242370\n",
            "Train Epoch : 8 [4800/7200 (67)%]\tLoss: 0.101190\n",
            "[8] Test Loss : 0.1053, Accuracy : 96.6250%\n",
            "Train Epoch : 9 [0/7200 (0)%]\tLoss: 0.028712\n",
            "Train Epoch : 9 [2400/7200 (33)%]\tLoss: 0.090242\n",
            "Train Epoch : 9 [4800/7200 (67)%]\tLoss: 0.045453\n",
            "[9] Test Loss : 0.0984, Accuracy : 96.6250%\n",
            "Train Epoch : 10 [0/7200 (0)%]\tLoss: 0.078340\n",
            "Train Epoch : 10 [2400/7200 (33)%]\tLoss: 0.058718\n",
            "Train Epoch : 10 [4800/7200 (67)%]\tLoss: 0.494468\n",
            "[10] Test Loss : 0.1183, Accuracy : 96.1250%\n"
          ],
          "name": "stdout"
        }
      ]
    },
    {
      "cell_type": "markdown",
      "metadata": {
        "id": "Sb18GqOSSvja",
        "colab_type": "text"
      },
      "source": [
        ""
      ]
    },
    {
      "cell_type": "markdown",
      "metadata": {
        "id": "t9B2vUrsOLlr",
        "colab_type": "text"
      },
      "source": [
        "test loader"
      ]
    },
    {
      "cell_type": "code",
      "metadata": {
        "id": "igASifX4OM0L",
        "colab_type": "code",
        "colab": {}
      },
      "source": [
        "class TestDataset(Dataset):\n",
        "  def __init__(self, image_dir, transforms=None):\n",
        "    self.image_dir = image_dir\n",
        "    self.image_list = os.listdir(self.image_dir)\n",
        "    self.transforms = transforms\n",
        "  \n",
        "  def __len__(self):\n",
        "    return len(self.image_list)\n",
        "  \n",
        "  def __getitem__(self,idx):\n",
        "    # if torch.is_tensor(idx):\n",
        "    #   idx = idx.tolist()\n",
        "\n",
        "    image_name = os.path.join(self.image_dir, self.image_list[idx])\n",
        "    image = io.imread(image_name)\n",
        "\n",
        "    ### transform\n",
        "    image = transform(image)\n",
        "\n",
        "    return (image,self.image_list[idx].split('.')[0])\n",
        "\n",
        "\n",
        "test_set = TestDataset(\"./swdl2020/test100\", transforms)\n",
        "test_loader = DataLoader(test_set)"
      ],
      "execution_count": 15,
      "outputs": []
    },
    {
      "cell_type": "markdown",
      "metadata": {
        "id": "gGnFwheQOM9_",
        "colab_type": "text"
      },
      "source": [
        "prediction"
      ]
    },
    {
      "cell_type": "code",
      "metadata": {
        "id": "3EG0uOU5ON9a",
        "colab_type": "code",
        "colab": {
          "base_uri": "https://localhost:8080/",
          "height": 419
        },
        "outputId": "c3d6bfa4-ea7d-4140-bd11-c2e137de5471"
      },
      "source": [
        "#cheetah : 0 , jaguar : 1, tiger : 2, hyena : 3\n",
        "map = ['cheetah','jaguar','tiger','hyena']\n",
        "\n",
        "model.eval()\n",
        "df = pd.DataFrame(columns=['id','category'])\n",
        "with torch.no_grad():\n",
        "    for (image, image_name) in test_loader:\n",
        "        # type casting\n",
        "        image = image.type(torch.cuda.FloatTensor)\n",
        "        output = model(image)\n",
        "        pred = output.max(1, keepdim=True)[1]\n",
        "        df = df.append(pd.DataFrame([[image_name[0], map[pred.squeeze().tolist()]]], columns=['id','category']))\n",
        "df"
      ],
      "execution_count": 16,
      "outputs": [
        {
          "output_type": "execute_result",
          "data": {
            "text/html": [
              "<div>\n",
              "<style scoped>\n",
              "    .dataframe tbody tr th:only-of-type {\n",
              "        vertical-align: middle;\n",
              "    }\n",
              "\n",
              "    .dataframe tbody tr th {\n",
              "        vertical-align: top;\n",
              "    }\n",
              "\n",
              "    .dataframe thead th {\n",
              "        text-align: right;\n",
              "    }\n",
              "</style>\n",
              "<table border=\"1\" class=\"dataframe\">\n",
              "  <thead>\n",
              "    <tr style=\"text-align: right;\">\n",
              "      <th></th>\n",
              "      <th>id</th>\n",
              "      <th>category</th>\n",
              "    </tr>\n",
              "  </thead>\n",
              "  <tbody>\n",
              "    <tr>\n",
              "      <th>0</th>\n",
              "      <td>10083</td>\n",
              "      <td>jaguar</td>\n",
              "    </tr>\n",
              "    <tr>\n",
              "      <th>0</th>\n",
              "      <td>10348</td>\n",
              "      <td>tiger</td>\n",
              "    </tr>\n",
              "    <tr>\n",
              "      <th>0</th>\n",
              "      <td>10295</td>\n",
              "      <td>hyena</td>\n",
              "    </tr>\n",
              "    <tr>\n",
              "      <th>0</th>\n",
              "      <td>10714</td>\n",
              "      <td>hyena</td>\n",
              "    </tr>\n",
              "    <tr>\n",
              "      <th>0</th>\n",
              "      <td>1062</td>\n",
              "      <td>jaguar</td>\n",
              "    </tr>\n",
              "    <tr>\n",
              "      <th>...</th>\n",
              "      <td>...</td>\n",
              "      <td>...</td>\n",
              "    </tr>\n",
              "    <tr>\n",
              "      <th>0</th>\n",
              "      <td>8986</td>\n",
              "      <td>tiger</td>\n",
              "    </tr>\n",
              "    <tr>\n",
              "      <th>0</th>\n",
              "      <td>9042</td>\n",
              "      <td>tiger</td>\n",
              "    </tr>\n",
              "    <tr>\n",
              "      <th>0</th>\n",
              "      <td>938</td>\n",
              "      <td>cheetah</td>\n",
              "    </tr>\n",
              "    <tr>\n",
              "      <th>0</th>\n",
              "      <td>9682</td>\n",
              "      <td>cheetah</td>\n",
              "    </tr>\n",
              "    <tr>\n",
              "      <th>0</th>\n",
              "      <td>9967</td>\n",
              "      <td>jaguar</td>\n",
              "    </tr>\n",
              "  </tbody>\n",
              "</table>\n",
              "<p>100 rows × 2 columns</p>\n",
              "</div>"
            ],
            "text/plain": [
              "       id category\n",
              "0   10083   jaguar\n",
              "0   10348    tiger\n",
              "0   10295    hyena\n",
              "0   10714    hyena\n",
              "0    1062   jaguar\n",
              "..    ...      ...\n",
              "0    8986    tiger\n",
              "0    9042    tiger\n",
              "0     938  cheetah\n",
              "0    9682  cheetah\n",
              "0    9967   jaguar\n",
              "\n",
              "[100 rows x 2 columns]"
            ]
          },
          "metadata": {
            "tags": []
          },
          "execution_count": 16
        }
      ]
    },
    {
      "cell_type": "markdown",
      "metadata": {
        "id": "Ue0Ba0KdQ8ch",
        "colab_type": "text"
      },
      "source": [
        "label counting"
      ]
    },
    {
      "cell_type": "code",
      "metadata": {
        "id": "PZrM6gNh-DzN",
        "colab_type": "code",
        "colab": {
          "base_uri": "https://localhost:8080/",
          "height": 89
        },
        "outputId": "a777ecd2-8e7d-4f8e-f467-a9c0ba2764d1"
      },
      "source": [
        "print('tiger', len(df[df['category']=='tiger']))\n",
        "print('cheetah', len(df[df['category']=='cheetah']))\n",
        "print('jaguar', len(df[df['category']=='jaguar']))\n",
        "print('hyena', len(df[df['category']=='hyena']))"
      ],
      "execution_count": 17,
      "outputs": [
        {
          "output_type": "stream",
          "text": [
            "tiger 24\n",
            "cheetah 30\n",
            "jaguar 26\n",
            "hyena 20\n"
          ],
          "name": "stdout"
        }
      ]
    },
    {
      "cell_type": "markdown",
      "metadata": {
        "id": "LwHEOGVIOOEm",
        "colab_type": "text"
      },
      "source": [
        "save csv file"
      ]
    },
    {
      "cell_type": "code",
      "metadata": {
        "id": "oXGZOM4uOPFf",
        "colab_type": "code",
        "colab": {
          "base_uri": "https://localhost:8080/",
          "height": 222
        },
        "outputId": "06e518a1-2b0d-444f-874a-a3d9e7e0d6bc"
      },
      "source": [
        "df.to_csv('./swdl2020/res.csv'+'20200627_org+aug.csv', index=False)\n",
        "print(df.columns)\n",
        "df.head()"
      ],
      "execution_count": 18,
      "outputs": [
        {
          "output_type": "stream",
          "text": [
            "Index(['id', 'category'], dtype='object')\n"
          ],
          "name": "stdout"
        },
        {
          "output_type": "execute_result",
          "data": {
            "text/html": [
              "<div>\n",
              "<style scoped>\n",
              "    .dataframe tbody tr th:only-of-type {\n",
              "        vertical-align: middle;\n",
              "    }\n",
              "\n",
              "    .dataframe tbody tr th {\n",
              "        vertical-align: top;\n",
              "    }\n",
              "\n",
              "    .dataframe thead th {\n",
              "        text-align: right;\n",
              "    }\n",
              "</style>\n",
              "<table border=\"1\" class=\"dataframe\">\n",
              "  <thead>\n",
              "    <tr style=\"text-align: right;\">\n",
              "      <th></th>\n",
              "      <th>id</th>\n",
              "      <th>category</th>\n",
              "    </tr>\n",
              "  </thead>\n",
              "  <tbody>\n",
              "    <tr>\n",
              "      <th>0</th>\n",
              "      <td>10083</td>\n",
              "      <td>jaguar</td>\n",
              "    </tr>\n",
              "    <tr>\n",
              "      <th>0</th>\n",
              "      <td>10348</td>\n",
              "      <td>tiger</td>\n",
              "    </tr>\n",
              "    <tr>\n",
              "      <th>0</th>\n",
              "      <td>10295</td>\n",
              "      <td>hyena</td>\n",
              "    </tr>\n",
              "    <tr>\n",
              "      <th>0</th>\n",
              "      <td>10714</td>\n",
              "      <td>hyena</td>\n",
              "    </tr>\n",
              "    <tr>\n",
              "      <th>0</th>\n",
              "      <td>1062</td>\n",
              "      <td>jaguar</td>\n",
              "    </tr>\n",
              "  </tbody>\n",
              "</table>\n",
              "</div>"
            ],
            "text/plain": [
              "      id category\n",
              "0  10083   jaguar\n",
              "0  10348    tiger\n",
              "0  10295    hyena\n",
              "0  10714    hyena\n",
              "0   1062   jaguar"
            ]
          },
          "metadata": {
            "tags": []
          },
          "execution_count": 18
        }
      ]
    },
    {
      "cell_type": "code",
      "metadata": {
        "id": "2_KJb9Xk2FIx",
        "colab_type": "code",
        "colab": {}
      },
      "source": [
        "arr1 = df.values"
      ],
      "execution_count": 19,
      "outputs": []
    },
    {
      "cell_type": "code",
      "metadata": {
        "id": "epH5X1iHZOLi",
        "colab_type": "code",
        "colab": {}
      },
      "source": [
        "answer = pd.read_csv(\"./swdl2020/prev.csv\")\n",
        "arr2 = answer.values"
      ],
      "execution_count": 21,
      "outputs": []
    },
    {
      "cell_type": "code",
      "metadata": {
        "id": "bEByU58lyEVA",
        "colab_type": "code",
        "colab": {
          "base_uri": "https://localhost:8080/",
          "height": 107
        },
        "outputId": "386881ef-8864-44c7-8175-04e0a33f8715"
      },
      "source": [
        "sum=0\n",
        "\n",
        "for i in range(100):\n",
        "  for j in range(100):\n",
        "    if int(arr2[i][0]) == int(arr1[j][0]):\n",
        "      if arr2[i][1] == arr1[j][1]:\n",
        "        sum+=1\n",
        "      else:\n",
        "        print(arr1[i][0], arr1[i][1], arr2[i][1])\n",
        "\n",
        "print(sum)"
      ],
      "execution_count": 24,
      "outputs": [
        {
          "output_type": "stream",
          "text": [
            "11045 cheetah jaguar\n",
            "412 cheetah jaguar\n",
            "7009 hyena jaguar\n",
            "7863 cheetah jaguar\n",
            "96\n"
          ],
          "name": "stdout"
        }
      ]
    }
  ]
}
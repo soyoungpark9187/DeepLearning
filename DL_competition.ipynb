{
  "nbformat": 4,
  "nbformat_minor": 0,
  "metadata": {
    "colab": {
      "name": "DL_competition.ipynb",
      "provenance": [],
      "collapsed_sections": [],
      "mount_file_id": "1g0_qI2qFll-jdnRrN7BVtDYrw6Lxx5pZ",
      "authorship_tag": "ABX9TyMdJlwLwRaPPSQoT4BDAJyH",
      "include_colab_link": true
    },
    "kernelspec": {
      "name": "python3",
      "display_name": "Python 3"
    },
    "accelerator": "GPU"
  },
  "cells": [
    {
      "cell_type": "markdown",
      "metadata": {
        "id": "view-in-github",
        "colab_type": "text"
      },
      "source": [
        "<a href=\"https://colab.research.google.com/github/soyoungpark9187/DeepLearning/blob/master/DL_competition.ipynb\" target=\"_parent\"><img src=\"https://colab.research.google.com/assets/colab-badge.svg\" alt=\"Open In Colab\"/></a>"
      ]
    },
    {
      "cell_type": "markdown",
      "metadata": {
        "id": "4QddRgDhVwZp",
        "colab_type": "text"
      },
      "source": [
        "**Competition 201735831 박소영**"
      ]
    },
    {
      "cell_type": "markdown",
      "metadata": {
        "id": "fj3c4mj7NrNF",
        "colab_type": "text"
      },
      "source": [
        "drive mount"
      ]
    },
    {
      "cell_type": "code",
      "metadata": {
        "id": "cRRNMf8_M8iX",
        "colab_type": "code",
        "colab": {
          "base_uri": "https://localhost:8080/",
          "height": 34
        },
        "outputId": "923c3949-cdb8-4e5d-f8ab-f8cc04d9fd83"
      },
      "source": [
        "from google.colab import drive\n",
        "  \n",
        "drive.mount('/content/drive')"
      ],
      "execution_count": null,
      "outputs": [
        {
          "output_type": "stream",
          "text": [
            "Drive already mounted at /content/drive; to attempt to forcibly remount, call drive.mount(\"/content/drive\", force_remount=True).\n"
          ],
          "name": "stdout"
        }
      ]
    },
    {
      "cell_type": "code",
      "metadata": {
        "id": "8FluLChPf61G",
        "colab_type": "code",
        "colab": {}
      },
      "source": [
        "import torch\n",
        "import os\n",
        "from skimage import io\n",
        "from skimage.util import random_noise\n",
        "import matplotlib.pyplot as plt\n",
        "from torch.utils.data import Dataset, DataLoader, ConcatDataset\n",
        "import numpy as np\n",
        "import torchvision.transforms as transforms\n",
        "import torch.nn.functional as F\n",
        "import cv2"
      ],
      "execution_count": null,
      "outputs": []
    },
    {
      "cell_type": "code",
      "metadata": {
        "id": "FSRr2AS7eJzP",
        "colab_type": "code",
        "colab": {}
      },
      "source": [
        "def _resnet(arch, block, layers, pretrained, progress, **kwargs):\n",
        "    model = ResNet(block, layers, **kwargs)\n",
        "    if pretrained:\n",
        "        # download pretrained weight\n",
        "        state_dict = load_state_dict_from_url(model_urls[arch],progress=progress)\n",
        "        # assign to model\n",
        "        model.load_state_dict(state_dict)\n",
        "    return model"
      ],
      "execution_count": null,
      "outputs": []
    },
    {
      "cell_type": "code",
      "metadata": {
        "id": "CE-JT1BoeLuy",
        "colab_type": "code",
        "colab": {}
      },
      "source": [
        "def resnet18(pretrained=False, progress=True, **kwargs):\n",
        "    r\"\"\"ResNet-18 model from\n",
        "    `\"Deep Residual Learning for Image Recognition\" <https://arxiv.org/pdf/1512.03385.pdf>`_\n",
        "    Args:\n",
        "        pretrained (bool): If True, returns a model pre-trained on ImageNet\n",
        "        progress (bool): If True, displays a progress bar of the download to stderr\n",
        "    \"\"\"\n",
        "    return _resnet('resnet18', BasicBlock, [2, 2, 2, 2], pretrained, progress,\n",
        "                   **kwargs)"
      ],
      "execution_count": null,
      "outputs": []
    },
    {
      "cell_type": "markdown",
      "metadata": {
        "id": "GtGspMapOHeC",
        "colab_type": "text"
      },
      "source": [
        "model"
      ]
    },
    {
      "cell_type": "code",
      "metadata": {
        "id": "nas9FBCIOIMq",
        "colab_type": "code",
        "colab": {
          "base_uri": "https://localhost:8080/",
          "height": 1000
        },
        "outputId": "098e76bb-23a1-45d2-fdcc-4af9c5753831"
      },
      "source": [
        "from torchvision import models\n",
        "import torch\n",
        "\n",
        "use_cuda = True\n",
        "device = torch.device(\"cuda\" if use_cuda else \"cpu\")\n",
        "\n",
        "model = models.resnet18(pretrained=True)\n",
        "\n",
        "# last layer modification\n",
        "model.fc = nn.Linear(512,10)\n",
        "model.to(device)\n"
      ],
      "execution_count": null,
      "outputs": [
        {
          "output_type": "execute_result",
          "data": {
            "text/plain": [
              "ResNet(\n",
              "  (conv1): Conv2d(3, 64, kernel_size=(7, 7), stride=(2, 2), padding=(3, 3), bias=False)\n",
              "  (bn1): BatchNorm2d(64, eps=1e-05, momentum=0.1, affine=True, track_running_stats=True)\n",
              "  (relu): ReLU(inplace=True)\n",
              "  (maxpool): MaxPool2d(kernel_size=3, stride=2, padding=1, dilation=1, ceil_mode=False)\n",
              "  (layer1): Sequential(\n",
              "    (0): BasicBlock(\n",
              "      (conv1): Conv2d(64, 64, kernel_size=(3, 3), stride=(1, 1), padding=(1, 1), bias=False)\n",
              "      (bn1): BatchNorm2d(64, eps=1e-05, momentum=0.1, affine=True, track_running_stats=True)\n",
              "      (relu): ReLU(inplace=True)\n",
              "      (conv2): Conv2d(64, 64, kernel_size=(3, 3), stride=(1, 1), padding=(1, 1), bias=False)\n",
              "      (bn2): BatchNorm2d(64, eps=1e-05, momentum=0.1, affine=True, track_running_stats=True)\n",
              "    )\n",
              "    (1): BasicBlock(\n",
              "      (conv1): Conv2d(64, 64, kernel_size=(3, 3), stride=(1, 1), padding=(1, 1), bias=False)\n",
              "      (bn1): BatchNorm2d(64, eps=1e-05, momentum=0.1, affine=True, track_running_stats=True)\n",
              "      (relu): ReLU(inplace=True)\n",
              "      (conv2): Conv2d(64, 64, kernel_size=(3, 3), stride=(1, 1), padding=(1, 1), bias=False)\n",
              "      (bn2): BatchNorm2d(64, eps=1e-05, momentum=0.1, affine=True, track_running_stats=True)\n",
              "    )\n",
              "  )\n",
              "  (layer2): Sequential(\n",
              "    (0): BasicBlock(\n",
              "      (conv1): Conv2d(64, 128, kernel_size=(3, 3), stride=(2, 2), padding=(1, 1), bias=False)\n",
              "      (bn1): BatchNorm2d(128, eps=1e-05, momentum=0.1, affine=True, track_running_stats=True)\n",
              "      (relu): ReLU(inplace=True)\n",
              "      (conv2): Conv2d(128, 128, kernel_size=(3, 3), stride=(1, 1), padding=(1, 1), bias=False)\n",
              "      (bn2): BatchNorm2d(128, eps=1e-05, momentum=0.1, affine=True, track_running_stats=True)\n",
              "      (downsample): Sequential(\n",
              "        (0): Conv2d(64, 128, kernel_size=(1, 1), stride=(2, 2), bias=False)\n",
              "        (1): BatchNorm2d(128, eps=1e-05, momentum=0.1, affine=True, track_running_stats=True)\n",
              "      )\n",
              "    )\n",
              "    (1): BasicBlock(\n",
              "      (conv1): Conv2d(128, 128, kernel_size=(3, 3), stride=(1, 1), padding=(1, 1), bias=False)\n",
              "      (bn1): BatchNorm2d(128, eps=1e-05, momentum=0.1, affine=True, track_running_stats=True)\n",
              "      (relu): ReLU(inplace=True)\n",
              "      (conv2): Conv2d(128, 128, kernel_size=(3, 3), stride=(1, 1), padding=(1, 1), bias=False)\n",
              "      (bn2): BatchNorm2d(128, eps=1e-05, momentum=0.1, affine=True, track_running_stats=True)\n",
              "    )\n",
              "  )\n",
              "  (layer3): Sequential(\n",
              "    (0): BasicBlock(\n",
              "      (conv1): Conv2d(128, 256, kernel_size=(3, 3), stride=(2, 2), padding=(1, 1), bias=False)\n",
              "      (bn1): BatchNorm2d(256, eps=1e-05, momentum=0.1, affine=True, track_running_stats=True)\n",
              "      (relu): ReLU(inplace=True)\n",
              "      (conv2): Conv2d(256, 256, kernel_size=(3, 3), stride=(1, 1), padding=(1, 1), bias=False)\n",
              "      (bn2): BatchNorm2d(256, eps=1e-05, momentum=0.1, affine=True, track_running_stats=True)\n",
              "      (downsample): Sequential(\n",
              "        (0): Conv2d(128, 256, kernel_size=(1, 1), stride=(2, 2), bias=False)\n",
              "        (1): BatchNorm2d(256, eps=1e-05, momentum=0.1, affine=True, track_running_stats=True)\n",
              "      )\n",
              "    )\n",
              "    (1): BasicBlock(\n",
              "      (conv1): Conv2d(256, 256, kernel_size=(3, 3), stride=(1, 1), padding=(1, 1), bias=False)\n",
              "      (bn1): BatchNorm2d(256, eps=1e-05, momentum=0.1, affine=True, track_running_stats=True)\n",
              "      (relu): ReLU(inplace=True)\n",
              "      (conv2): Conv2d(256, 256, kernel_size=(3, 3), stride=(1, 1), padding=(1, 1), bias=False)\n",
              "      (bn2): BatchNorm2d(256, eps=1e-05, momentum=0.1, affine=True, track_running_stats=True)\n",
              "    )\n",
              "  )\n",
              "  (layer4): Sequential(\n",
              "    (0): BasicBlock(\n",
              "      (conv1): Conv2d(256, 512, kernel_size=(3, 3), stride=(2, 2), padding=(1, 1), bias=False)\n",
              "      (bn1): BatchNorm2d(512, eps=1e-05, momentum=0.1, affine=True, track_running_stats=True)\n",
              "      (relu): ReLU(inplace=True)\n",
              "      (conv2): Conv2d(512, 512, kernel_size=(3, 3), stride=(1, 1), padding=(1, 1), bias=False)\n",
              "      (bn2): BatchNorm2d(512, eps=1e-05, momentum=0.1, affine=True, track_running_stats=True)\n",
              "      (downsample): Sequential(\n",
              "        (0): Conv2d(256, 512, kernel_size=(1, 1), stride=(2, 2), bias=False)\n",
              "        (1): BatchNorm2d(512, eps=1e-05, momentum=0.1, affine=True, track_running_stats=True)\n",
              "      )\n",
              "    )\n",
              "    (1): BasicBlock(\n",
              "      (conv1): Conv2d(512, 512, kernel_size=(3, 3), stride=(1, 1), padding=(1, 1), bias=False)\n",
              "      (bn1): BatchNorm2d(512, eps=1e-05, momentum=0.1, affine=True, track_running_stats=True)\n",
              "      (relu): ReLU(inplace=True)\n",
              "      (conv2): Conv2d(512, 512, kernel_size=(3, 3), stride=(1, 1), padding=(1, 1), bias=False)\n",
              "      (bn2): BatchNorm2d(512, eps=1e-05, momentum=0.1, affine=True, track_running_stats=True)\n",
              "    )\n",
              "  )\n",
              "  (avgpool): AdaptiveAvgPool2d(output_size=(1, 1))\n",
              "  (fc): Linear(in_features=512, out_features=10, bias=True)\n",
              ")"
            ]
          },
          "metadata": {
            "tags": []
          },
          "execution_count": 119
        }
      ]
    },
    {
      "cell_type": "markdown",
      "metadata": {
        "id": "9oFlrOVqNyGb",
        "colab_type": "text"
      },
      "source": [
        "train"
      ]
    },
    {
      "cell_type": "code",
      "metadata": {
        "id": "raDZdr1KOKbZ",
        "colab_type": "code",
        "colab": {}
      },
      "source": [
        "def train(model, train_loader, optimizer, epoch):\n",
        "  model.train()\n",
        "  for batch_idx, (image, target) in enumerate(train_loader):\n",
        "    data, target = image.to(DEVICE), target.to(DEVICE)\n",
        "    optimizer.zero_grad()\n",
        "    output = model(data)\n",
        "    loss = F.cross_entropy(output, target)\n",
        "    loss.backward()\n",
        "    optimizer.step()\n",
        "\n",
        "    if batch_idx % 150 == 0 :\n",
        "      print('Train Epoch : {} [{}/{} ({:.0f})%]\\tLoss: {:.6f}'\n",
        "      .format(epoch, batch_idx*len(image),len(train_loader.dataset), 100.*batch_idx / len(train_loader), loss.item()))\n",
        "\n",
        "def evaluate(model, test_loader):\n",
        "  model.eval()\n",
        "  test_loss =0\n",
        "  correct =0\n",
        "  with torch.no_grad():\n",
        "    for (image, target) in test_loader:\n",
        "      image, label = image.to(DEVICE), target.to(DEVICE)\n",
        "      output = model(image)\n",
        "\n",
        "      test_loss += F.cross_entropy(output, label, reduction='sum').item()\n",
        "      pred = output.max(1, keepdim=True)[1]\n",
        "      correct+= pred.eq(label.view_as(pred)).sum().item()\n",
        "  \n",
        "  test_loss /= len(test_loader.dataset)\n",
        "  test_accuracy = 100. * correct / len(test_loader.dataset)\n",
        "  return test_loss, test_accuracy"
      ],
      "execution_count": null,
      "outputs": []
    },
    {
      "cell_type": "markdown",
      "metadata": {
        "id": "rBiz9VjST3az",
        "colab_type": "text"
      },
      "source": [
        "data augmentation methods"
      ]
    },
    {
      "cell_type": "code",
      "metadata": {
        "id": "HVN4wFe7T3Ba",
        "colab_type": "code",
        "colab": {}
      },
      "source": [
        "def augmentation(image):\n",
        "    height, width, channel = image.shape\n",
        "    # random rotation degree\n",
        "    degree = np.random.randint(45,90)\n",
        "    # color\n",
        "    b = idx = np.random.randint(255)\n",
        "    g = idx = np.random.randint(255)\n",
        "    r = idx = np.random.randint(255)\n",
        "\n",
        "    # pt1 #TODO: 범위\n",
        "    y1 = np.random.randint(height/2)\n",
        "    x1 = np.random.randint(width/2)\n",
        "\n",
        "    # pt2\n",
        "    y2 = np.random.randint(y1, height)\n",
        "    x2 = np.random.randint(x1, height)\n",
        "\n",
        "    matrix = cv2.getRotationMatrix2D((width/2, height/2), degree, 1)\n",
        "\n",
        "    image = cv2.warpAffine(image, matrix, (width, height))\n",
        "\n",
        "    image = cv2.rectangle(image, (y1, x1), (y2, x1), (b, g, r), -1)\n",
        "\n",
        "    image = random_noise(image, mode='gaussian', mean=0, var=0.1)\n",
        "\n",
        "    return image"
      ],
      "execution_count": null,
      "outputs": []
    },
    {
      "cell_type": "markdown",
      "metadata": {
        "id": "SBmmc-ibNuVx",
        "colab_type": "text"
      },
      "source": [
        "data load"
      ]
    },
    {
      "cell_type": "code",
      "metadata": {
        "id": "Aqmlg6rykEoV",
        "colab_type": "code",
        "colab": {
          "base_uri": "https://localhost:8080/",
          "height": 54
        },
        "outputId": "4c89d7ab-89e8-4078-b81a-768fb20fc94f"
      },
      "source": [
        "USE_CUDA = torch.cuda.is_available()\n",
        "DEVICE = torch.device(\"cuda\" if USE_CUDA else \"cpu\")\n",
        "\n",
        "BATCH_SIZE = 16\n",
        "\n",
        "transform = transforms.Compose([\n",
        "    transforms.ToTensor(),\n",
        "    transforms.Normalize(mean=[0.485,0.456,0.406],\n",
        "                        std=[0.229,0.224,0.225])\n",
        "])\n",
        "\n",
        "    \n",
        "class MyDataset(Dataset):\n",
        "  def __init__(self, image_dir, label, transforms=None):\n",
        "    self.image_dir = image_dir\n",
        "    self.label = label\n",
        "    self.image_list = os.listdir(self.image_dir)\n",
        "    self.transforms = transform\n",
        "  \n",
        "  def __len__(self):\n",
        "    return len(self.image_list)\n",
        "  \n",
        "  def __getitem__(self,idx):\n",
        "    # if torch.is_tensor(idx):\n",
        "    #   idx = idx.tolist()\n",
        "\n",
        "    image_name = os.path.join(self.image_dir, self.image_list[idx])\n",
        "    image = io.imread(image_name)\n",
        "\n",
        "    height, width, channel = image.shape\n",
        "    # random rotation degree\n",
        "    degree = np.random.randint(0,90)\n",
        "    # color\n",
        "    b = idx = np.random.randint(255)\n",
        "    g = idx = np.random.randint(255)\n",
        "    r = idx = np.random.randint(255)\n",
        "\n",
        "    # pt1 #TODO: 범위\n",
        "    y1 = np.random.randint(height/2)\n",
        "    x1 = np.random.randint(width/2)\n",
        "\n",
        "    # pt2\n",
        "    y2 = np.random.randint(y1, height)\n",
        "    x2 = np.random.randint(x1, height)\n",
        "\n",
        "    matrix = cv2.getRotationMatrix2D((width/2, height/2), degree, 1)\n",
        "\n",
        "    image = cv2.warpAffine(image, matrix, (width, height))\n",
        "\n",
        "    image = cv2.rectangle(image, (y1, x1), (y2, x2), (b, g, r), -1)\n",
        "\n",
        "    image = random_noise(image, mode='gaussian', mean=0, var=0.1)\n",
        "\n",
        "    # type casting\n",
        "    image.astype(float)\n",
        "    ### transform\n",
        "    image = transform(image)\n",
        "    return (image,self.label)\n",
        "\n",
        "data_dir = \"/content/drive/My Drive\"\n",
        "root = data_dir + '/swdl2020'\n",
        "#cheetah : 0 , jaguar : 1, tiger : 2, hyena : 3\n",
        "\n",
        "# original train\n",
        "cheetah_train = MyDataset(root+\"/train/cheetah_train_resized\",0,transform)\n",
        "jaguar_train = MyDataset(root+\"/train/jaguar_train_resized\",1,transform)\n",
        "tiger_train = MyDataset(root+\"/train/tiger_train_resized\",2,transform)\n",
        "hyena_train = MyDataset(root+\"/train/hyena_train_resized\",3,transform)\n",
        "\n",
        "train_set = ConcatDataset([cheetah_train, jaguar_train, tiger_train, hyena_train])\n",
        "print(\"Number of Training set images : \", len(train_set))\n",
        "\n",
        "#original val\n",
        "cheetah_val = MyDataset(root+\"/validation/cheetah_validation_resized\",0, transform)\n",
        "jaguar_val = MyDataset(root+\"/validation/jaguar_validation_resized\",1, transform)\n",
        "tiger_val = MyDataset(root+\"/validation/tiger_validation_resized\",2, transform)\n",
        "hyena_val = MyDataset(root+\"/validation/hyena_validation_resized\",3,transform)\n",
        "\n",
        "val_set = ConcatDataset([cheetah_val, jaguar_val, tiger_val, hyena_val])\n",
        "print(\"Numver of Validation set images : \", len(val_set))\n",
        "\n",
        "train_loader = DataLoader(train_set, batch_size=BATCH_SIZE, shuffle = True)\n",
        "val_loader = DataLoader(val_set, batch_size=BATCH_SIZE, shuffle=True)"
      ],
      "execution_count": null,
      "outputs": [
        {
          "output_type": "stream",
          "text": [
            "Number of Training set images :  3600\n",
            "Numver of Validation set images :  400\n"
          ],
          "name": "stdout"
        }
      ]
    },
    {
      "cell_type": "markdown",
      "metadata": {
        "id": "4R7sx3qKOKkl",
        "colab_type": "text"
      },
      "source": [
        "execute"
      ]
    },
    {
      "cell_type": "code",
      "metadata": {
        "id": "FVh37dJzOLdC",
        "colab_type": "code",
        "colab": {
          "base_uri": "https://localhost:8080/",
          "height": 574
        },
        "outputId": "f09ad974-9404-4f6e-c32f-03ba8adde791"
      },
      "source": [
        "import torch.optim as optim\n",
        "learnning_rate = 0.01\n",
        "EPOCH = 10\n",
        "\n",
        "optimizer = optim.Adadelta(model.parameters(), lr=learnning_rate)\n",
        "scheduler = torch.optim.lr_scheduler.StepLR(optimizer, step_size=1, gamma=0.1)\n",
        "loss_function = nn.CrossEntropyLoss()\n",
        "\n",
        "for epoch in range(1, EPOCH+1):\n",
        "    train(model, train_loader, optimizer, epoch)\n",
        "    test_loss, test_accuracy = evaluate(model, val_loader)\n",
        "    print('[{}] Test Loss : {:.4f}, Accuracy : {:.4f}%'.format(epoch, test_loss, test_accuracy))"
      ],
      "execution_count": null,
      "outputs": [
        {
          "output_type": "stream",
          "text": [
            "Train Epoch : 1 [0/3600 (0)%]\tLoss: 0.100249\n",
            "Train Epoch : 1 [2400/3600 (67)%]\tLoss: 0.075964\n",
            "[1] Test Loss : 0.1210, Accuracy : 96.0000%\n",
            "Train Epoch : 2 [0/3600 (0)%]\tLoss: 0.048461\n",
            "Train Epoch : 2 [2400/3600 (67)%]\tLoss: 0.286370\n",
            "[2] Test Loss : 0.0885, Accuracy : 98.2500%\n",
            "Train Epoch : 3 [0/3600 (0)%]\tLoss: 0.376815\n",
            "Train Epoch : 3 [2400/3600 (67)%]\tLoss: 0.094187\n",
            "[3] Test Loss : 0.1022, Accuracy : 96.7500%\n",
            "Train Epoch : 4 [0/3600 (0)%]\tLoss: 0.301173\n",
            "Train Epoch : 4 [2400/3600 (67)%]\tLoss: 0.016338\n",
            "[4] Test Loss : 0.0972, Accuracy : 96.7500%\n",
            "Train Epoch : 5 [0/3600 (0)%]\tLoss: 0.106025\n",
            "Train Epoch : 5 [2400/3600 (67)%]\tLoss: 0.224155\n",
            "[5] Test Loss : 0.0961, Accuracy : 97.7500%\n",
            "Train Epoch : 6 [0/3600 (0)%]\tLoss: 0.035911\n",
            "Train Epoch : 6 [2400/3600 (67)%]\tLoss: 0.051092\n",
            "[6] Test Loss : 0.0879, Accuracy : 97.7500%\n",
            "Train Epoch : 7 [0/3600 (0)%]\tLoss: 0.056041\n",
            "Train Epoch : 7 [2400/3600 (67)%]\tLoss: 0.098457\n",
            "[7] Test Loss : 0.0995, Accuracy : 97.5000%\n",
            "Train Epoch : 8 [0/3600 (0)%]\tLoss: 0.019628\n",
            "Train Epoch : 8 [2400/3600 (67)%]\tLoss: 0.114625\n",
            "[8] Test Loss : 0.1246, Accuracy : 96.5000%\n",
            "Train Epoch : 9 [0/3600 (0)%]\tLoss: 0.016522\n",
            "Train Epoch : 9 [2400/3600 (67)%]\tLoss: 0.014079\n",
            "[9] Test Loss : 0.1066, Accuracy : 96.0000%\n",
            "Train Epoch : 10 [0/3600 (0)%]\tLoss: 0.614572\n",
            "Train Epoch : 10 [2400/3600 (67)%]\tLoss: 0.131306\n",
            "[10] Test Loss : 0.1132, Accuracy : 96.7500%\n"
          ],
          "name": "stdout"
        }
      ]
    },
    {
      "cell_type": "markdown",
      "metadata": {
        "id": "t9B2vUrsOLlr",
        "colab_type": "text"
      },
      "source": [
        "test loader"
      ]
    },
    {
      "cell_type": "code",
      "metadata": {
        "id": "igASifX4OM0L",
        "colab_type": "code",
        "colab": {}
      },
      "source": [
        "class TestDataset(Dataset):\n",
        "  def __init__(self, image_dir, transforms=None):\n",
        "    self.image_dir = image_dir\n",
        "    self.image_list = os.listdir(self.image_dir)\n",
        "    self.transforms = transforms\n",
        "  \n",
        "  def __len__(self):\n",
        "    return len(self.image_list)\n",
        "  \n",
        "  def __getitem__(self,idx):\n",
        "    # if torch.is_tensor(idx):\n",
        "    #   idx = idx.tolist()\n",
        "\n",
        "    image_name = os.path.join(self.image_dir, self.image_list[idx])\n",
        "    image = io.imread(image_name)\n",
        "\n",
        "    ### transform\n",
        "    image = transform(image)\n",
        "\n",
        "    return (image,self.image_list[idx].split('.')[0])\n",
        "\n",
        "\n",
        "test_set = TestDataset(root+\"/test100\", transforms)\n",
        "test_loader = DataLoader(test_set)"
      ],
      "execution_count": null,
      "outputs": []
    },
    {
      "cell_type": "markdown",
      "metadata": {
        "id": "gGnFwheQOM9_",
        "colab_type": "text"
      },
      "source": [
        "prediction"
      ]
    },
    {
      "cell_type": "code",
      "metadata": {
        "id": "3EG0uOU5ON9a",
        "colab_type": "code",
        "colab": {
          "base_uri": "https://localhost:8080/",
          "height": 408
        },
        "outputId": "00d69bda-0bd6-4cc5-c823-6582c20e125b"
      },
      "source": [
        "import pandas as pd\n",
        "\n",
        "#cheetah : 0 , jaguar : 1, tiger : 2, hyena : 3\n",
        "map = ['cheetah','jaguar','tiger','hyena']\n",
        "\n",
        "model.eval()\n",
        "df = pd.DataFrame(columns=['id','category'])\n",
        "with torch.no_grad():\n",
        "    for (image, image_name) in test_loader:\n",
        "        # type casting\n",
        "        image = image.type(torch.cuda.DoubleTensor)\n",
        "        output = model(image)\n",
        "        pred = output.max(1, keepdim=True)[1]\n",
        "        df = df.append(pd.DataFrame([[image_name[0], map[pred.squeeze().tolist()]]], columns=['id','category']))\n",
        "df"
      ],
      "execution_count": null,
      "outputs": [
        {
          "output_type": "execute_result",
          "data": {
            "text/html": [
              "<div>\n",
              "<style scoped>\n",
              "    .dataframe tbody tr th:only-of-type {\n",
              "        vertical-align: middle;\n",
              "    }\n",
              "\n",
              "    .dataframe tbody tr th {\n",
              "        vertical-align: top;\n",
              "    }\n",
              "\n",
              "    .dataframe thead th {\n",
              "        text-align: right;\n",
              "    }\n",
              "</style>\n",
              "<table border=\"1\" class=\"dataframe\">\n",
              "  <thead>\n",
              "    <tr style=\"text-align: right;\">\n",
              "      <th></th>\n",
              "      <th>id</th>\n",
              "      <th>category</th>\n",
              "    </tr>\n",
              "  </thead>\n",
              "  <tbody>\n",
              "    <tr>\n",
              "      <th>0</th>\n",
              "      <td>10083</td>\n",
              "      <td>jaguar</td>\n",
              "    </tr>\n",
              "    <tr>\n",
              "      <th>0</th>\n",
              "      <td>10348</td>\n",
              "      <td>tiger</td>\n",
              "    </tr>\n",
              "    <tr>\n",
              "      <th>0</th>\n",
              "      <td>10295</td>\n",
              "      <td>tiger</td>\n",
              "    </tr>\n",
              "    <tr>\n",
              "      <th>0</th>\n",
              "      <td>10714</td>\n",
              "      <td>hyena</td>\n",
              "    </tr>\n",
              "    <tr>\n",
              "      <th>0</th>\n",
              "      <td>1062</td>\n",
              "      <td>jaguar</td>\n",
              "    </tr>\n",
              "    <tr>\n",
              "      <th>...</th>\n",
              "      <td>...</td>\n",
              "      <td>...</td>\n",
              "    </tr>\n",
              "    <tr>\n",
              "      <th>0</th>\n",
              "      <td>8986</td>\n",
              "      <td>tiger</td>\n",
              "    </tr>\n",
              "    <tr>\n",
              "      <th>0</th>\n",
              "      <td>9042</td>\n",
              "      <td>tiger</td>\n",
              "    </tr>\n",
              "    <tr>\n",
              "      <th>0</th>\n",
              "      <td>938</td>\n",
              "      <td>cheetah</td>\n",
              "    </tr>\n",
              "    <tr>\n",
              "      <th>0</th>\n",
              "      <td>9682</td>\n",
              "      <td>cheetah</td>\n",
              "    </tr>\n",
              "    <tr>\n",
              "      <th>0</th>\n",
              "      <td>9967</td>\n",
              "      <td>jaguar</td>\n",
              "    </tr>\n",
              "  </tbody>\n",
              "</table>\n",
              "<p>100 rows × 2 columns</p>\n",
              "</div>"
            ],
            "text/plain": [
              "       id category\n",
              "0   10083   jaguar\n",
              "0   10348    tiger\n",
              "0   10295    tiger\n",
              "0   10714    hyena\n",
              "0    1062   jaguar\n",
              "..    ...      ...\n",
              "0    8986    tiger\n",
              "0    9042    tiger\n",
              "0     938  cheetah\n",
              "0    9682  cheetah\n",
              "0    9967   jaguar\n",
              "\n",
              "[100 rows x 2 columns]"
            ]
          },
          "metadata": {
            "tags": []
          },
          "execution_count": 305
        }
      ]
    },
    {
      "cell_type": "markdown",
      "metadata": {
        "id": "Ue0Ba0KdQ8ch",
        "colab_type": "text"
      },
      "source": [
        "label counting"
      ]
    },
    {
      "cell_type": "code",
      "metadata": {
        "id": "PZrM6gNh-DzN",
        "colab_type": "code",
        "colab": {
          "base_uri": "https://localhost:8080/",
          "height": 91
        },
        "outputId": "443bb96e-fa91-44b0-9a80-c7bda53c9800"
      },
      "source": [
        "print('tiger', len(df[df['category']=='tiger']))\n",
        "print('cheetah', len(df[df['category']=='cheetah']))\n",
        "print('jaguar', len(df[df['category']=='jaguar']))\n",
        "print('hyena', len(df[df['category']=='hyena']))"
      ],
      "execution_count": null,
      "outputs": [
        {
          "output_type": "stream",
          "text": [
            "tiger 24\n",
            "cheetah 23\n",
            "jaguar 36\n",
            "hyena 17\n"
          ],
          "name": "stdout"
        }
      ]
    },
    {
      "cell_type": "markdown",
      "metadata": {
        "id": "LwHEOGVIOOEm",
        "colab_type": "text"
      },
      "source": [
        "save csv file"
      ]
    },
    {
      "cell_type": "code",
      "metadata": {
        "id": "oXGZOM4uOPFf",
        "colab_type": "code",
        "colab": {
          "base_uri": "https://localhost:8080/",
          "height": 217
        },
        "outputId": "6e9768ca-bc89-4e72-92ca-cdb1ba37a343"
      },
      "source": [
        "df.to_csv(root +'/res.csv'+'20200624', index=False)\n",
        "print(df.columns)\n",
        "df.head()"
      ],
      "execution_count": null,
      "outputs": [
        {
          "output_type": "stream",
          "text": [
            "Index(['id', 'category'], dtype='object')\n"
          ],
          "name": "stdout"
        },
        {
          "output_type": "execute_result",
          "data": {
            "text/html": [
              "<div>\n",
              "<style scoped>\n",
              "    .dataframe tbody tr th:only-of-type {\n",
              "        vertical-align: middle;\n",
              "    }\n",
              "\n",
              "    .dataframe tbody tr th {\n",
              "        vertical-align: top;\n",
              "    }\n",
              "\n",
              "    .dataframe thead th {\n",
              "        text-align: right;\n",
              "    }\n",
              "</style>\n",
              "<table border=\"1\" class=\"dataframe\">\n",
              "  <thead>\n",
              "    <tr style=\"text-align: right;\">\n",
              "      <th></th>\n",
              "      <th>id</th>\n",
              "      <th>category</th>\n",
              "    </tr>\n",
              "  </thead>\n",
              "  <tbody>\n",
              "    <tr>\n",
              "      <th>0</th>\n",
              "      <td>10083</td>\n",
              "      <td>jaguar</td>\n",
              "    </tr>\n",
              "    <tr>\n",
              "      <th>0</th>\n",
              "      <td>10348</td>\n",
              "      <td>tiger</td>\n",
              "    </tr>\n",
              "    <tr>\n",
              "      <th>0</th>\n",
              "      <td>10295</td>\n",
              "      <td>tiger</td>\n",
              "    </tr>\n",
              "    <tr>\n",
              "      <th>0</th>\n",
              "      <td>10714</td>\n",
              "      <td>hyena</td>\n",
              "    </tr>\n",
              "    <tr>\n",
              "      <th>0</th>\n",
              "      <td>1062</td>\n",
              "      <td>jaguar</td>\n",
              "    </tr>\n",
              "  </tbody>\n",
              "</table>\n",
              "</div>"
            ],
            "text/plain": [
              "      id category\n",
              "0  10083   jaguar\n",
              "0  10348    tiger\n",
              "0  10295    tiger\n",
              "0  10714    hyena\n",
              "0   1062   jaguar"
            ]
          },
          "metadata": {
            "tags": []
          },
          "execution_count": 307
        }
      ]
    },
    {
      "cell_type": "code",
      "metadata": {
        "id": "UGe8_OwKuBZK",
        "colab_type": "code",
        "colab": {
          "base_uri": "https://localhost:8080/",
          "height": 198
        },
        "outputId": "c7acccc3-b035-433c-93dd-fa94bdb37480"
      },
      "source": [
        "# compare\n",
        "answer = pd.read_excel(root+\"/label.xlsx\")\n",
        "answer.head()"
      ],
      "execution_count": null,
      "outputs": [
        {
          "output_type": "execute_result",
          "data": {
            "text/html": [
              "<div>\n",
              "<style scoped>\n",
              "    .dataframe tbody tr th:only-of-type {\n",
              "        vertical-align: middle;\n",
              "    }\n",
              "\n",
              "    .dataframe tbody tr th {\n",
              "        vertical-align: top;\n",
              "    }\n",
              "\n",
              "    .dataframe thead th {\n",
              "        text-align: right;\n",
              "    }\n",
              "</style>\n",
              "<table border=\"1\" class=\"dataframe\">\n",
              "  <thead>\n",
              "    <tr style=\"text-align: right;\">\n",
              "      <th></th>\n",
              "      <th>412</th>\n",
              "      <th>jaguar</th>\n",
              "    </tr>\n",
              "  </thead>\n",
              "  <tbody>\n",
              "    <tr>\n",
              "      <th>0</th>\n",
              "      <td>458</td>\n",
              "      <td>cheetah</td>\n",
              "    </tr>\n",
              "    <tr>\n",
              "      <th>1</th>\n",
              "      <td>509</td>\n",
              "      <td>tiger</td>\n",
              "    </tr>\n",
              "    <tr>\n",
              "      <th>2</th>\n",
              "      <td>938</td>\n",
              "      <td>cheetah</td>\n",
              "    </tr>\n",
              "    <tr>\n",
              "      <th>3</th>\n",
              "      <td>1062</td>\n",
              "      <td>jaguar</td>\n",
              "    </tr>\n",
              "    <tr>\n",
              "      <th>4</th>\n",
              "      <td>1076</td>\n",
              "      <td>hyena</td>\n",
              "    </tr>\n",
              "  </tbody>\n",
              "</table>\n",
              "</div>"
            ],
            "text/plain": [
              "    412   jaguar\n",
              "0   458  cheetah\n",
              "1   509    tiger\n",
              "2   938  cheetah\n",
              "3  1062   jaguar\n",
              "4  1076    hyena"
            ]
          },
          "metadata": {
            "tags": []
          },
          "execution_count": 308
        }
      ]
    },
    {
      "cell_type": "code",
      "metadata": {
        "id": "3gin1LcZwVsZ",
        "colab_type": "code",
        "colab": {}
      },
      "source": [
        "arr1  = df.values\n",
        "arr2 = answer.values"
      ],
      "execution_count": null,
      "outputs": []
    },
    {
      "cell_type": "code",
      "metadata": {
        "id": "bEByU58lyEVA",
        "colab_type": "code",
        "colab": {
          "base_uri": "https://localhost:8080/",
          "height": 36
        },
        "outputId": "30b1de77-bfde-4482-9531-ac6474ce7dd2"
      },
      "source": [
        "sum=0\n",
        "for i in range(99):\n",
        "  for j in range(99):\n",
        "    if int(arr1[i+1][0]) == arr2[j][0]:\n",
        "      if arr1[i+1][1] == arr2[j][1]:\n",
        "        sum+=1\n",
        "\n",
        "print(sum)"
      ],
      "execution_count": null,
      "outputs": [
        {
          "output_type": "stream",
          "text": [
            "84\n"
          ],
          "name": "stdout"
        }
      ]
    }
  ]
}